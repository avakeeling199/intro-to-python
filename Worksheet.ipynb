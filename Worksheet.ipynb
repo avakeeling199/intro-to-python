{
 "cells": [
  {
   "cell_type": "markdown",
   "id": "08b59891-49c4-4fca-9ead-daade55bd547",
   "metadata": {},
   "source": [
    "# Welcome to your first Jupyter Notebook\n",
    "\n",
    "## First python steps\n",
    "\n",
    "At it's most basic, you can use Python as a calculator. "
   ]
  },
  {
   "cell_type": "code",
   "execution_count": 2,
   "id": "e020489b-b048-4d84-b2fb-98ae19f1c333",
   "metadata": {},
   "outputs": [
    {
     "data": {
      "text/plain": [
       "12"
      ]
     },
     "execution_count": 2,
     "metadata": {},
     "output_type": "execute_result"
    }
   ],
   "source": [
    "6 * 2"
   ]
  },
  {
   "cell_type": "markdown",
   "id": "8c706bf1-b353-43a2-8a73-a6e48e59e660",
   "metadata": {},
   "source": [
    "Extra spaces are added to make the code more readable but are not necessary for it to run. `6 * 2` works just as well as `6*2` and is considered good practice.\n",
    "\n",
    "When coding, you want to store your values in variables."
   ]
  },
  {
   "cell_type": "code",
   "execution_count": 17,
   "id": "8f80d8f0-0d92-4ab5-a39e-c827be52fff4",
   "metadata": {},
   "outputs": [],
   "source": [
    "var_1 = 6 * 2 \n",
    "a = 2 \n",
    "b = 3 \n",
    "var_2 = a + b"
   ]
  },
  {
   "cell_type": "markdown",
   "id": "d554706d-5529-40a6-9906-4007a52301d8",
   "metadata": {},
   "source": [
    "These value a can then stored and can be called again in a later cell."
   ]
  },
  {
   "cell_type": "code",
   "execution_count": 18,
   "id": "173346d0-1a3b-4da1-a7e4-5a184f5ee50b",
   "metadata": {},
   "outputs": [
    {
     "data": {
      "text/plain": [
       "12"
      ]
     },
     "execution_count": 18,
     "metadata": {},
     "output_type": "execute_result"
    }
   ],
   "source": [
    "var_1"
   ]
  },
  {
   "cell_type": "markdown",
   "id": "67396cc9-1ad6-4f84-a8f7-9a5352dd9b00",
   "metadata": {},
   "source": [
    "`var_1`, `var_2`, `a` and `b` are now variables. Each variable has a type, in this case, they are all integers (whole numbers). To write the value of a variable to the screen, use the `print()` function, just like in your `Hello world`."
   ]
  },
  {
   "cell_type": "code",
   "execution_count": 19,
   "id": "a5afc00c-3aad-4665-b850-f92347f981e4",
   "metadata": {},
   "outputs": [
    {
     "name": "stdout",
     "output_type": "stream",
     "text": [
      "5\n"
     ]
    }
   ],
   "source": [
    "print(var_2)"
   ]
  },
  {
   "cell_type": "markdown",
   "id": "022aa882-5808-4c4b-9d1b-f193397f27a1",
   "metadata": {},
   "source": [
    "You can ass some text to the `print` function by putting the text string between quotes (either single or double quotes work as long as you use the sae at the beginning and end), and seperate the text string and the variable by a comma"
   ]
  },
  {
   "cell_type": "code",
   "execution_count": 20,
   "id": "476415fe-0808-4ed8-b27a-b1ecbbcaa833",
   "metadata": {},
   "outputs": [
    {
     "name": "stdout",
     "output_type": "stream",
     "text": [
      "the value of a is 2\n"
     ]
    }
   ],
   "source": [
    "print('the value of a is', a)"
   ]
  },
  {
   "cell_type": "markdown",
   "id": "5fc5dda4-5327-4f0f-89bb-27f97b4c7e58",
   "metadata": {},
   "source": [
    "A variable can be raised to a power by using `**` (a hat `^`, as used in some other languages doesn't work)"
   ]
  },
  {
   "cell_type": "code",
   "execution_count": 21,
   "id": "93882ee4-497f-46c1-baf9-b0787609b4cd",
   "metadata": {},
   "outputs": [
    {
     "data": {
      "text/plain": [
       "8"
      ]
     },
     "execution_count": 21,
     "metadata": {},
     "output_type": "execute_result"
    }
   ],
   "source": [
    "a ** b"
   ]
  },
  {
   "cell_type": "markdown",
   "id": "b08993cc-3329-4056-9dad-cb227ed1ca4c",
   "metadata": {},
   "source": [
    "### **Exercise 1**\n",
    "\n",
    "Compute the value of $y = ax^2 + bx + c$ at $x = 3.1, x = 0$ and $ x = -2$ using $a = 2, b = 1, c = -3$ and print the results on-screen."
   ]
  },
  {
   "cell_type": "code",
   "execution_count": null,
   "id": "400374d8-3596-4761-a9ba-43ae1961fb37",
   "metadata": {},
   "outputs": [],
   "source": []
  },
  {
   "cell_type": "markdown",
   "id": "705e9d5a-f793-4f44-9f26-00b185286379",
   "metadata": {},
   "source": [
    "You can see that the fist value of y looks pretty ugly. A better and more readable way to print both text and the value of a variable to the screen is to use what are called f-strings. f-strings allow you to insert the value of a variable anywhere in the text by surroundijng it with braces `{}`. The entire text string needs to be between quotes and be preceeded by the letter `f`."
   ]
  },
  {
   "cell_type": "code",
   "execution_count": 29,
   "id": "3ca4f0b8-baac-46fb-a1b1-82a384a68748",
   "metadata": {},
   "outputs": [
    {
     "name": "stdout",
     "output_type": "stream",
     "text": [
      "1 divided by 3 gives 0.3333333333333333\n"
     ]
    }
   ],
   "source": [
    "e = 1\n",
    "f = 3\n",
    "g = e / f\n",
    "print(f'{e} divided by {f} gives {g}')"
   ]
  },
  {
   "cell_type": "markdown",
   "id": "08d06e2f-0a66-4266-80b4-8596a71dd1d7",
   "metadata": {},
   "source": [
    "The complete syntax between braces is `{variable:width.precision}`. When `width` and `precision` are not specified, Python will use all digits and figure out the width for you. If you want a floating point number with 3 decimals, you specify the number of digits, `3`, followed by the letter `f` for floating point (you can still let Python figure out the width by not specifying it). If you prefer exponent (scientific) notation, replace `f` by an `e`. The text after the `#` is a comment in the code. Any text on the line after the `#` is ignored by Python."
   ]
  },
  {
   "cell_type": "code",
   "execution_count": 30,
   "id": "f22c4820-66fe-403a-bece-49ca3248b8f8",
   "metadata": {},
   "outputs": [
    {
     "name": "stdout",
     "output_type": "stream",
     "text": [
      "2 divided by 1 gives -3.000\n",
      "2 divided by 1 gives     -3.000\n",
      "2 divided by 1 gives -3.000e+00\n"
     ]
    }
   ],
   "source": [
    "print(f'{a} divided by {b} gives {c:.3f}') # three decimal places\n",
    "print(f'{a} divided by {b} gives {c:10.3f}') # width 10 and 3 decimal places\n",
    "print(f'{a} divided by {b} gives {c:.3e}') # three decimal places scientific notation"
   ]
  },
  {
   "cell_type": "markdown",
   "id": "4e876b18-0a69-4db1-b3b7-cafa621295cc",
   "metadata": {},
   "source": [
    "### **Exercise 2**\n",
    "Compute the value of the polynomial $y = ax^2 + bx + c$ at $x = 3.1, x = 0$ and $x = -2$ using $a = 2$, $b = 1$, $c = -3$ and print the results to the screen using f-strings and 2 decimal places."
   ]
  },
  {
   "cell_type": "code",
   "execution_count": null,
   "id": "e93e342e-6ebd-4d46-8217-8281991e47d7",
   "metadata": {},
   "outputs": [],
   "source": []
  },
  {
   "cell_type": "markdown",
   "id": "6016a978-e261-486c-af7d-ab81019fa7d6",
   "metadata": {},
   "source": [
    "### More on variables\n",
    "\n",
    "If you define a variable `a` in a code block after you have already previously assigned a value to the variable `a`, it will overwrite the previous one."
   ]
  },
  {
   "cell_type": "code",
   "execution_count": 32,
   "id": "ef4867e3-3294-4967-8e0f-40e0d8c1ae4b",
   "metadata": {},
   "outputs": [
    {
     "name": "stdout",
     "output_type": "stream",
     "text": [
      "a is currently assigned the value 2\n",
      "now it is 1\n"
     ]
    }
   ],
   "source": [
    "print('a is currently assigned the value', a)\n",
    "a = 1\n",
    "print('now it is', a)"
   ]
  },
  {
   "cell_type": "markdown",
   "id": "b0e78717-f85d-473c-89c0-dc1852225976",
   "metadata": {},
   "source": [
    "Variable names may be as long as you like, although be sensible. Selecting descripting names helps to make the code more understandable. Variable names cannot have spaces, nor can they start with a number. They are also case sensitive. eg. `MyVariable` $\\neq$ `myvariable`. The name of a variable may be anything you want, except for reserved words in the Python language. Eg, it is not possible to create a variable with the name `for` as this is a reserved word, used in `for` loops. You will pick up which words are reserved as you continue. "
   ]
  },
  {
   "cell_type": "markdown",
   "id": "c0b8a43e-eeb1-4b91-919b-e6857e20c75d",
   "metadata": {},
   "source": [
    "## Basic plotting\n",
    "Plotting is not a part of standard Python, and therefore you will need to install a new package. The package most commonly used for plotting is called `matplotlib`, and in order to use this we will have to import it. For now, we will import the plotting part of `matplotlib` and call it `plt`, and before we do this we will tell Jupyter Notebook to show any of the graphs created inside the notebook and not in a seperate window (very annoying) using the command `%matplotlib inline`\n",
    "\n",
    "> You may need to install matplotlib to your environment first. Do this by running the command `conda install matplotlib` before trying to run the bellow cell"
   ]
  },
  {
   "cell_type": "code",
   "execution_count": 35,
   "id": "7b8572fa-b98c-4b9f-adbb-1d139c199ddf",
   "metadata": {},
   "outputs": [],
   "source": [
    "%matplotlib inline\n",
    "import matplotlib.pyplot as plt"
   ]
  },
  {
   "cell_type": "markdown",
   "id": "8890bc27-5fe7-4194-a591-796885bce536",
   "metadata": {},
   "source": [
    "Packages only have to be imported once in a Python session. After the above import statement, any plotting function may be called from any code cell as `plt.function`. Eg,"
   ]
  },
  {
   "cell_type": "code",
   "execution_count": 36,
   "id": "e05d2ed2-a787-4849-8f1f-8f766ec43e91",
   "metadata": {},
   "outputs": [
    {
     "data": {
      "text/plain": [
       "[<matplotlib.lines.Line2D at 0x11701ec90>]"
      ]
     },
     "execution_count": 36,
     "metadata": {},
     "output_type": "execute_result"
    },
    {
     "data": {
      "image/png": "[encoded data removed]",
      "text/plain": [
       "<Figure size 640x480 with 1 Axes>"
      ]
     },
     "metadata": {},
     "output_type": "display_data"
    }
   ],
   "source": [
    "plt.plot([1, 2, 4, 2])"
   ]
  },
  {
   "cell_type": "markdown",
   "id": "1fedde96-b618-4e0a-b94c-a3e573c25639",
   "metadata": {},
   "source": [
    "Let's try to plot $y$ vs $x$ for $x$ going from -4 to +4 for the polynomial $y = ax^2 + bx + c$ with $a = 1$, $b = 1$, and $c = -6$. To do that, we need to evaluate $y$ at a bunch of points. A sequence of values of the same type is called an **array** (eg, an array of integers or floats). Array functionality is available in the package `numpy`. Let's import `numpy` and call it `np`, so that any function in the `numpy` package may be called as `np.function`."
   ]
  },
  {
   "cell_type": "code",
   "execution_count": 38,
   "id": "67777d70-51cd-4045-988a-fb2d7139c5b0",
   "metadata": {},
   "outputs": [],
   "source": [
    "import numpy as np"
   ]
  },
  {
   "cell_type": "markdown",
   "id": "78449a60-bd23-42f2-a76f-0b1bd3279608",
   "metadata": {},
   "source": [
    "To create an array `x` consisting of, for examply, 5 equally spaced points between `-4` and `4`, use the `linspace` command."
   ]
  },
  {
   "cell_type": "code",
   "execution_count": 39,
   "id": "18987a0c-9466-4b45-b6b7-c1d1ee123680",
   "metadata": {},
   "outputs": [
    {
     "name": "stdout",
     "output_type": "stream",
     "text": [
      "[-4. -2.  0.  2.  4.]\n"
     ]
    }
   ],
   "source": [
    "x = np.linspace(-4, 4, 5)\n",
    "print(x)"
   ]
  },
  {
   "cell_type": "markdown",
   "id": "e2b3f06c-37aa-4750-8f70-05b26374d637",
   "metadata": {},
   "source": [
    "In the above cell, `x` is an array of 5 floats, (`-4.` is a float, `-4` is an integer). If you type `np.linspace` and then an opening parenthesis like:\n",
    "```\n",
    "np.linspace(\n",
    "```\n",
    "and then hit [shift-tab] a little help box pops up to explain the input arguments of the function. When you click on the + sign, you can scroll through all the documentation of the `linspace` function. This is a very useful functionality, as you will never be able to remember the exact arguments required for every function you want to use! Click the x sign to remove the help box. Let's plot $y$ using 100 $x$ values from $-4$ to $+4$."
   ]
  },
  {
   "cell_type": "code",
   "execution_count": 40,
   "id": "a6e198e4-d73a-4f17-9afb-6a8d967e580a",
   "metadata": {},
   "outputs": [
    {
     "data": {
      "text/plain": [
       "[<matplotlib.lines.Line2D at 0x11706c470>]"
      ]
     },
     "execution_count": 40,
     "metadata": {},
     "output_type": "execute_result"
    },
    {
     "data": {
      "image/png": "[encoded data removed]",
      "text/plain": [
       "<Figure size 640x480 with 1 Axes>"
      ]
     },
     "metadata": {},
     "output_type": "display_data"
    }
   ],
   "source": [
    "a = 1\n",
    "b = 1\n",
    "c = -6\n",
    "x = np.linspace(-4, 4, 100)\n",
    "y = a * x ** 2 + b * x + c # Compute y for all x values\n",
    "plt.plot(x,y)"
   ]
  },
  {
   "cell_type": "markdown",
   "id": "605c5d54-58c2-48bf-8189-27977b7dbc67",
   "metadata": {},
   "source": [
    "Note that *one hundre* `y` values are computed in the simple line `y = a * x ** 2 + b * x + c`. Python treats arrays in the same fashion as it treats regular variables when you perform mathematical operations. The math is simply applied to every value in the array (and it runs much faster than when you would do every calculation separately).\n",
    "\n",
    "You may wonder what the statement like `[<matplotlib.lines.Line2D at 0x11706c470>]` is (the numbers above on your machine may look different). This is actually a handle to the line that is created with the last command in the code block (in this case `plt.plot(x, y)`). Remember: the result of the last line in a code cell is printed to the screen, unless it is stored in a variable. You can tell the Notebook not to print this to the screen by putting a semicolon after the last command in the code block (so type `plot(x, y);`). We will learn later on that it may also be useful to store this handle in a variable.\n",
    "\n",
    "The `plot` function can take many arguments. Looking at the help box of the `plot` function, by typing `plt.plot(` and then shift-tab, gives you a lot of help. Typing `plt.plot?` gives a new scrollable subwindow at the bottom of the notebook, showing the documentation on plot. Click the x in the upper right hand corner to close the subwindow again.\n",
    "\n",
    "In short, `plot` can be used with one argument as `plot(y)`, which plots y values along the vertical axis and enumerates the horizontal axis starting at 0. `plot(x, y)` plots y vs x, and `plot(x, y, formatstring)` plots y vs x using colors and markers defined in formatstring, which can be a lot of things. It can be used to define the color, for example 'b' for blue, 'r' for red, and 'g' for green. Or it can be used to define the linetype '-' for line, '--' for dashed, ':' for dots. Or you can define markers, for example 'o' for circles and 's' for squares. You can even combine them: 'r--' gives a red dashed line, while 'go' gives green circular markers.\n",
    "\n",
    "If that isn't enough, plot takes a large number of keyword arguments. A keyword argument is an optional argument that may be added to a function. The syntax is `function(keyword1=value1, keyword2=value2)`, etc. For example, to plot a line with width 6 (the default is 1), type"
   ]
  },
  {
   "cell_type": "markdown",
   "id": "7c659118-ac96-4bef-8784-4e7719fb893a",
   "metadata": {},
   "source": [
    "### **Exercise 3**\n",
    "Plot the parabola $x^2 + 2x + 2$ when $x=(-10,10)$"
   ]
  },
  {
   "cell_type": "code",
   "execution_count": null,
   "id": "cadd9ff8-f2eb-4e92-90f7-8140c3f2df59",
   "metadata": {},
   "outputs": [],
   "source": []
  },
  {
   "cell_type": "markdown",
   "id": "fc4b5f92-92e1-4307-b6bf-53dbbf40fe90",
   "metadata": {},
   "source": [
    "## Creating plots from a dataset"
   ]
  },
  {
   "cell_type": "markdown",
   "id": "eacdedfb-29f2-4552-9a25-3214d9236b97",
   "metadata": {},
   "source": [
    "Now you know how to create some basic plots with generated data! Let's take it one step further and create some plots from an actual given dataset.\n",
    "\n",
    "For this we will be using the a dataset from the tidy tuesday project, available [here](https://github.com/rfordatascience/tidytuesday/blob/master/data/2023/2023-05-23/squirrel_data.csv). This dataset is from the 2018 central park squirrel census. Download the dataset from the link, and save it to the same directory as this worksheet. Then, we need to import the data to be able to work with it here. For this, we need the `pandas` package. "
   ]
  },
  {
   "cell_type": "code",
   "execution_count": 3,
   "id": "25abeabe-5ac5-4d3e-9a0f-e215b84aa1cf",
   "metadata": {},
   "outputs": [],
   "source": [
    "import pandas as pd\n",
    "\n",
    "# import the data as a dataframe\n",
    "squirrels = pd.read_csv('squirrel_data.csv')"
   ]
  },
  {
   "cell_type": "markdown",
   "id": "c6466c84-3769-4dba-9e7c-89cd17ebc153",
   "metadata": {},
   "source": [
    "Now we have the dataset saved in this workspace, called 'squirrels'! Let's take a look at it."
   ]
  },
  {
   "cell_type": "code",
   "execution_count": 5,
   "id": "52d9ae4c-4acd-4d9d-b05c-f23aef806adf",
   "metadata": {},
   "outputs": [
    {
     "data": {
      "text/html": [
       "<div>\n",
       "<style scoped>\n",
       "    .dataframe tbody tr th:only-of-type {\n",
       "        vertical-align: middle;\n",
       "    }\n",
       "\n",
       "    .dataframe tbody tr th {\n",
       "        vertical-align: top;\n",
       "    }\n",
       "\n",
       "    .dataframe thead th {\n",
       "        text-align: right;\n",
       "    }\n",
       "</style>\n",
       "<table border=\"1\" class=\"dataframe\">\n",
       "  <thead>\n",
       "    <tr style=\"text-align: right;\">\n",
       "      <th></th>\n",
       "      <th>X</th>\n",
       "      <th>Y</th>\n",
       "      <th>Unique Squirrel ID</th>\n",
       "      <th>Hectare</th>\n",
       "      <th>Shift</th>\n",
       "      <th>Date</th>\n",
       "      <th>Hectare Squirrel Number</th>\n",
       "      <th>Age</th>\n",
       "      <th>Primary Fur Color</th>\n",
       "      <th>Highlight Fur Color</th>\n",
       "      <th>...</th>\n",
       "      <th>Kuks</th>\n",
       "      <th>Quaas</th>\n",
       "      <th>Moans</th>\n",
       "      <th>Tail flags</th>\n",
       "      <th>Tail twitches</th>\n",
       "      <th>Approaches</th>\n",
       "      <th>Indifferent</th>\n",
       "      <th>Runs from</th>\n",
       "      <th>Other Interactions</th>\n",
       "      <th>Lat/Long</th>\n",
       "    </tr>\n",
       "  </thead>\n",
       "  <tbody>\n",
       "    <tr>\n",
       "      <th>0</th>\n",
       "      <td>-73.956134</td>\n",
       "      <td>40.794082</td>\n",
       "      <td>37F-PM-1014-03</td>\n",
       "      <td>37F</td>\n",
       "      <td>PM</td>\n",
       "      <td>10142018</td>\n",
       "      <td>3</td>\n",
       "      <td>NaN</td>\n",
       "      <td>NaN</td>\n",
       "      <td>NaN</td>\n",
       "      <td>...</td>\n",
       "      <td>False</td>\n",
       "      <td>False</td>\n",
       "      <td>False</td>\n",
       "      <td>False</td>\n",
       "      <td>False</td>\n",
       "      <td>False</td>\n",
       "      <td>False</td>\n",
       "      <td>False</td>\n",
       "      <td>NaN</td>\n",
       "      <td>POINT (-73.9561344937861 40.7940823884086)</td>\n",
       "    </tr>\n",
       "    <tr>\n",
       "      <th>1</th>\n",
       "      <td>-73.968857</td>\n",
       "      <td>40.783783</td>\n",
       "      <td>21B-AM-1019-04</td>\n",
       "      <td>21B</td>\n",
       "      <td>AM</td>\n",
       "      <td>10192018</td>\n",
       "      <td>4</td>\n",
       "      <td>NaN</td>\n",
       "      <td>NaN</td>\n",
       "      <td>NaN</td>\n",
       "      <td>...</td>\n",
       "      <td>False</td>\n",
       "      <td>False</td>\n",
       "      <td>False</td>\n",
       "      <td>False</td>\n",
       "      <td>False</td>\n",
       "      <td>False</td>\n",
       "      <td>False</td>\n",
       "      <td>False</td>\n",
       "      <td>NaN</td>\n",
       "      <td>POINT (-73.9688574691102 40.7837825208444)</td>\n",
       "    </tr>\n",
       "    <tr>\n",
       "      <th>2</th>\n",
       "      <td>-73.974281</td>\n",
       "      <td>40.775534</td>\n",
       "      <td>11B-PM-1014-08</td>\n",
       "      <td>11B</td>\n",
       "      <td>PM</td>\n",
       "      <td>10142018</td>\n",
       "      <td>8</td>\n",
       "      <td>NaN</td>\n",
       "      <td>Gray</td>\n",
       "      <td>NaN</td>\n",
       "      <td>...</td>\n",
       "      <td>False</td>\n",
       "      <td>False</td>\n",
       "      <td>False</td>\n",
       "      <td>False</td>\n",
       "      <td>False</td>\n",
       "      <td>False</td>\n",
       "      <td>False</td>\n",
       "      <td>False</td>\n",
       "      <td>NaN</td>\n",
       "      <td>POINT (-73.97428114848522 40.775533619083)</td>\n",
       "    </tr>\n",
       "    <tr>\n",
       "      <th>3</th>\n",
       "      <td>-73.959641</td>\n",
       "      <td>40.790313</td>\n",
       "      <td>32E-PM-1017-14</td>\n",
       "      <td>32E</td>\n",
       "      <td>PM</td>\n",
       "      <td>10172018</td>\n",
       "      <td>14</td>\n",
       "      <td>Adult</td>\n",
       "      <td>Gray</td>\n",
       "      <td>NaN</td>\n",
       "      <td>...</td>\n",
       "      <td>False</td>\n",
       "      <td>False</td>\n",
       "      <td>False</td>\n",
       "      <td>False</td>\n",
       "      <td>False</td>\n",
       "      <td>False</td>\n",
       "      <td>False</td>\n",
       "      <td>True</td>\n",
       "      <td>NaN</td>\n",
       "      <td>POINT (-73.9596413903948 40.7903128889029)</td>\n",
       "    </tr>\n",
       "    <tr>\n",
       "      <th>4</th>\n",
       "      <td>-73.970268</td>\n",
       "      <td>40.776213</td>\n",
       "      <td>13E-AM-1017-05</td>\n",
       "      <td>13E</td>\n",
       "      <td>AM</td>\n",
       "      <td>10172018</td>\n",
       "      <td>5</td>\n",
       "      <td>Adult</td>\n",
       "      <td>Gray</td>\n",
       "      <td>Cinnamon</td>\n",
       "      <td>...</td>\n",
       "      <td>False</td>\n",
       "      <td>False</td>\n",
       "      <td>False</td>\n",
       "      <td>False</td>\n",
       "      <td>False</td>\n",
       "      <td>False</td>\n",
       "      <td>False</td>\n",
       "      <td>False</td>\n",
       "      <td>NaN</td>\n",
       "      <td>POINT (-73.9702676472613 40.7762126854894)</td>\n",
       "    </tr>\n",
       "  </tbody>\n",
       "</table>\n",
       "<p>5 rows × 31 columns</p>\n",
       "</div>"
      ],
      "text/plain": [
       "           X          Y Unique Squirrel ID Hectare Shift      Date  \\\n",
       "0 -73.956134  40.794082     37F-PM-1014-03     37F    PM  10142018   \n",
       "1 -73.968857  40.783783     21B-AM-1019-04     21B    AM  10192018   \n",
       "2 -73.974281  40.775534     11B-PM-1014-08     11B    PM  10142018   \n",
       "3 -73.959641  40.790313     32E-PM-1017-14     32E    PM  10172018   \n",
       "4 -73.970268  40.776213     13E-AM-1017-05     13E    AM  10172018   \n",
       "\n",
       "   Hectare Squirrel Number    Age Primary Fur Color Highlight Fur Color  ...  \\\n",
       "0                        3    NaN               NaN                 NaN  ...   \n",
       "1                        4    NaN               NaN                 NaN  ...   \n",
       "2                        8    NaN              Gray                 NaN  ...   \n",
       "3                       14  Adult              Gray                 NaN  ...   \n",
       "4                        5  Adult              Gray            Cinnamon  ...   \n",
       "\n",
       "    Kuks  Quaas  Moans Tail flags Tail twitches  Approaches  Indifferent  \\\n",
       "0  False  False  False      False         False       False        False   \n",
       "1  False  False  False      False         False       False        False   \n",
       "2  False  False  False      False         False       False        False   \n",
       "3  False  False  False      False         False       False        False   \n",
       "4  False  False  False      False         False       False        False   \n",
       "\n",
       "   Runs from  Other Interactions                                    Lat/Long  \n",
       "0      False                 NaN  POINT (-73.9561344937861 40.7940823884086)  \n",
       "1      False                 NaN  POINT (-73.9688574691102 40.7837825208444)  \n",
       "2      False                 NaN  POINT (-73.97428114848522 40.775533619083)  \n",
       "3       True                 NaN  POINT (-73.9596413903948 40.7903128889029)  \n",
       "4      False                 NaN  POINT (-73.9702676472613 40.7762126854894)  \n",
       "\n",
       "[5 rows x 31 columns]"
      ]
     },
     "execution_count": 5,
     "metadata": {},
     "output_type": "execute_result"
    }
   ],
   "source": [
    "squirrels.head(5) # this just shows the first 5 rows of the dataset"
   ]
  },
  {
   "cell_type": "markdown",
   "id": "a1b6dae0-0e65-4751-9d4c-b837da998dd2",
   "metadata": {},
   "source": [
    "There is more information about what each feature of this dataset means in the github repository you downloaded it from. For now, let's just try and make a barplot of how many of each colour squirrel are in the census."
   ]
  },
  {
   "cell_type": "code",
   "execution_count": 8,
   "id": "33e18e7b-79fc-4b92-9b76-e2e9779fd499",
   "metadata": {},
   "outputs": [
    {
     "data": {
      "text/plain": [
       "<Axes: xlabel='Primary Fur Color'>"
      ]
     },
     "execution_count": 8,
     "metadata": {},
     "output_type": "execute_result"
    },
    {
     "data": {
      "image/png": "[encoded data removed]",
      "text/plain": [
       "<Figure size 640x480 with 1 Axes>"
      ]
     },
     "metadata": {},
     "output_type": "display_data"
    }
   ],
   "source": [
    "squirrels['Primary Fur Color'].value_counts().plot(kind = 'bar')"
   ]
  },
  {
   "cell_type": "markdown",
   "id": "46b4a284-db6e-4cda-9267-ad061a18bef2",
   "metadata": {},
   "source": [
    "Let's breakdown this line of code. We use the square brackets `[]` here to tell Python what feature we want to look at from the `squirrels` dataset. `squirrels['Primary Fur Color']` tells python we want to look at the 'Primary Fur Color' feature. **Remember:** Python is *case sensitive* so make sure to put capitals in! Next, we need to tell Python to count how many squirrels have each color fur. We do this by adding `.value_counts()`. Then, we want Python to plot this, so we add `.plot()`. And finally, so that Python knows to make a bar plot, we specify `kind = 'bar'` inside the plot function. "
   ]
  },
  {
   "cell_type": "markdown",
   "id": "74f8cabf-5ba3-41fb-8e82-fb8243d465b5",
   "metadata": {},
   "source": [
    "### **Exercise 4**\n",
    "Create a bar plot of how many 'Adult' vs. 'Juvenile' squirrels there are in the census."
   ]
  },
  {
   "cell_type": "code",
   "execution_count": null,
   "id": "51a8515b-7c61-4ee3-881f-aea0eedbe912",
   "metadata": {},
   "outputs": [],
   "source": []
  },
  {
   "cell_type": "markdown",
   "id": "2f0238c2-3619-4ba0-bd27-190d222b2297",
   "metadata": {},
   "source": [
    "## Some extra resources\n",
    "Here are some extra resources to help you get started with Python.\n",
    "\n",
    "[Intro to Python](http://introtopython.org/resources.html) - Some Extra tutorials.\n",
    "\n",
    "[Python 101](https://scrimba.com/learn/python) - Free Python beginner's course.\n",
    "\n",
    "[Project Euler](https://projecteuler.net) - Math problems to practice your new skills on."
   ]
  },
  {
   "cell_type": "code",
   "execution_count": null,
   "id": "2fcb99db-cca0-4af5-9f51-8f2c002e3925",
   "metadata": {},
   "outputs": [],
   "source": []
  }
 ],
 "metadata": {
  "kernelspec": {
   "display_name": "Python 3 (ipykernel)",
   "language": "python",
   "name": "python3"
  },
  "language_info": {
   "codemirror_mode": {
    "name": "ipython",
    "version": 3
   },
   "file_extension": ".py",
   "mimetype": "text/x-python",
   "name": "python",
   "nbconvert_exporter": "python",
   "pygments_lexer": "ipython3",
   "version": "3.12.2"
  }
 },
 "nbformat": 4,
 "nbformat_minor": 5
}
